{
 "cells": [
  {
   "cell_type": "markdown",
   "metadata": {},
   "source": [
    "# Creating a chatbot\n",
    "### An automated product sales rep for Vodafone"
   ]
  },
  {
   "cell_type": "markdown",
   "metadata": {},
   "source": [
    "Want it to be able to:\n",
    "* Bring up a catalogue of products that Vodafone sells\n",
    "* Recommend products based on a customer's interests\n",
    "* Add products to a customer's shopping basket\n",
    "* Calculate total amount and print out a receipt"
   ]
  },
  {
   "cell_type": "code",
   "execution_count": null,
   "metadata": {
    "collapsed": true
   },
   "outputs": [],
   "source": []
  }
 ],
 "metadata": {
  "kernelspec": {
   "display_name": "Python 3",
   "language": "python",
   "name": "python3"
  },
  "language_info": {
   "codemirror_mode": {
    "name": "ipython",
    "version": 3
   },
   "file_extension": ".py",
   "mimetype": "text/x-python",
   "name": "python",
   "nbconvert_exporter": "python",
   "pygments_lexer": "ipython3",
   "version": "3.6.4"
  }
 },
 "nbformat": 4,
 "nbformat_minor": 2
}
