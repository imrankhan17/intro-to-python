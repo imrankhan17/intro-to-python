{
 "cells": [
  {
   "cell_type": "markdown",
   "metadata": {},
   "source": [
    "# Creating a chatbot\n",
    "### An automated product sales rep for Vodafone"
   ]
  },
  {
   "cell_type": "markdown",
   "metadata": {},
   "source": [
    "Want it to be able to:\n",
    "* Bring up a catalogue of products that Vodafone sells\n",
    "* Recommend products based on a customer's interests\n",
    "* Add products to a customer's shopping basket\n",
    "* Calculate total amount and print out a receipt"
   ]
  },
  {
   "cell_type": "markdown",
   "metadata": {},
   "source": [
    "What questions are we going to ask?\n",
    "* What's your name?\n",
    "* Are you interested in a monthly contract or payg?\n",
    "* Would you like to see our current deals for monthly/payg?\n",
    "* Please select your choice from the list.\n",
    "* Anything else - would you be interested in any tablets or accessories?\n",
    "* Would you like to go the checkout?\n",
    "* Here's your final receipt."
   ]
  },
  {
   "cell_type": "markdown",
   "metadata": {},
   "source": [
    "### Saying hello"
   ]
  },
  {
   "cell_type": "code",
   "execution_count": null,
   "metadata": {},
   "outputs": [],
   "source": [
    "print(\"Hello!  Welcome to Vodafone's new chatbot.\")\n",
    "name = input('Please enter your name: ')\n",
    "print('Hello ' + name)"
   ]
  },
  {
   "cell_type": "markdown",
   "metadata": {},
   "source": [
    "### Data - products, prices, offers etc."
   ]
  },
  {
   "cell_type": "code",
   "execution_count": null,
   "metadata": {},
   "outputs": [],
   "source": [
    "phones_monthly = {'Apple iPhone X': 74, 'Apple iPhone 8': 54, 'Apple iPhone 7': 38, 'Samsung Galaxy S8': 52}\n",
    "\n",
    "phones_payg = {'Huawei P8 lite 2017': 99, 'Sony Xperia L1': 119, 'MobiWire Ayasha': 3.5, 'Vodafone Smart mini 7': 25}"
   ]
  },
  {
   "cell_type": "code",
   "execution_count": null,
   "metadata": {},
   "outputs": [],
   "source": []
  }
 ],
 "metadata": {
  "kernelspec": {
   "display_name": "Python 3",
   "language": "python",
   "name": "python3"
  },
  "language_info": {
   "codemirror_mode": {
    "name": "ipython",
    "version": 3
   },
   "file_extension": ".py",
   "mimetype": "text/x-python",
   "name": "python",
   "nbconvert_exporter": "python",
   "pygments_lexer": "ipython3",
   "version": "3.6.5"
  }
 },
 "nbformat": 4,
 "nbformat_minor": 2
}
